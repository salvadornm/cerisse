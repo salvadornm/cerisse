{
 "cells": [
  {
   "attachments": {},
   "cell_type": "markdown",
   "metadata": {},
   "source": [
    "## Analysis flat plate boundary layer data"
   ]
  },
  {
   "cell_type": "code",
   "execution_count": null,
   "metadata": {},
   "outputs": [],
   "source": [
    "import yt\n",
    "import numpy as np\n",
    "import matplotlib.pyplot as plt"
   ]
  },
  {
   "cell_type": "code",
   "execution_count": null,
   "metadata": {},
   "outputs": [],
   "source": [
    "datasets = [\"WENOZ190/plt15000\", \"WENOZ95/plt15000\", \"WENOZ48/plt15000\", \"WENOZ24/plt15000\"]\n",
    "dx = 21/64 / 2**np.array([3, 4, 5, 6])\n",
    "dy =  4/64 / 2**np.array([3, 4, 5, 6])\n",
    "L = 20.5\n",
    "Tw = 300.0\n",
    "Tinf = 57.8\n",
    "pinf = 1530.0\n",
    "M = 6.85\n",
    "\n",
    "gamma = 1.4\n",
    "R = 2.87e6\n",
    "cp = 1.005e7\n",
    "Pr = 0.71\n",
    "mu0 = 3.94751e-05\n",
    "\n",
    "uinf = (M*np.sqrt(gamma*R*Tinf))\n",
    "rhoinf = pinf/R/Tinf\n",
    "\n",
    "rhoinf*uinf*dy/mu0 # Re_dy"
   ]
  },
  {
   "cell_type": "code",
   "execution_count": null,
   "metadata": {},
   "outputs": [],
   "source": [
    "def LineoutBoxlib(files, var_names):\n",
    "  _x = []\n",
    "  _data = []\n",
    "\n",
    "  for fname in files:\n",
    "    ds = yt.load(fname)\n",
    "\n",
    "    xaxis = 0  # take a line cut along the x axis\n",
    "    lineout = ds.ortho_ray(xaxis, (0, 0))\n",
    "    srt = np.argsort(lineout[\"index\", \"x\"])\n",
    "    x = np.array(lineout[\"index\", \"x\"][srt]) - 0.5\n",
    "    _x.append(x)\n",
    "\n",
    "    data = np.zeros((len(var_names), x.size))\n",
    "    for i in range(len(var_names)):\n",
    "      data[i,:] = np.array(lineout[\"boxlib\", var_names[i]][srt])  \n",
    "    _data.append(data)\n",
    "  \n",
    "  return _x, _data\n",
    "\n",
    "# def Diffy(fname, vname, dy, uw):\n",
    "#   ds = yt.load(fname)\n",
    "\n",
    "#   xaxis = 0  # take a line cut along the x axis\n",
    "\n",
    "#   y1 = dy/2\n",
    "#   lineout = ds.ortho_ray(xaxis, (y1, 0)) # plane coordinates: if casting along x, this is (y, z)\n",
    "#   srt = np.argsort(lineout[\"index\", \"x\"])\n",
    "#   x = np.array(lineout[\"index\", \"x\"][srt]) - 0.5\n",
    "#   u1 = np.array(lineout[\"boxlib\", vname][srt]) \n",
    "  \n",
    "#   dudy = (u1-uw)/dy\n",
    "\n",
    "#   return x[x>0], dudy[x>0]\n",
    "\n",
    "def Diffy2(fname, vname, dy, uw):\n",
    "  \"\"\" \n",
    "  Second order differential approximation\n",
    "  \"\"\"\n",
    "  ds = yt.load(fname)\n",
    "\n",
    "  xaxis = 0  # take a line cut along the x axis\n",
    "\n",
    "  y1 = dy/2\n",
    "  lineout = ds.ortho_ray(xaxis, (y1, 0)) # plane coordinates: if casting along x, this is (y, z)\n",
    "  srt = np.argsort(lineout[\"index\", \"x\"])\n",
    "  x = np.array(lineout[\"index\", \"x\"][srt]) - 0.5\n",
    "  u1 = np.array(lineout[\"boxlib\", vname][srt])  \n",
    "  \n",
    "  y2 = dy/2 + dy\n",
    "  lineout = ds.ortho_ray(xaxis, (y2, 0))\n",
    "  srt = np.argsort(lineout[\"index\", \"x\"])\n",
    "  u2 = np.array(lineout[\"boxlib\", vname][srt])\n",
    "  \n",
    "  dudy = (y2**2*u1 - y1**2*u2 + uw*(y1**2-y2**2)) / (y1*y2*(y2-y1))\n",
    "\n",
    "  return x[x>0], dudy[x>0]\n",
    "\n",
    "# def Diffy3(fname, vname, dy, uw):\n",
    "#   ds = yt.load(fname)\n",
    "\n",
    "#   xaxis = 0  # take a line cut along the x axis\n",
    "\n",
    "#   y1 = dy/2\n",
    "#   lineout = ds.ortho_ray(xaxis, (y1, 0)) # plane coordinates: if casting along x, this is (y, z)\n",
    "#   srt = np.argsort(lineout[\"index\", \"x\"])\n",
    "#   x = np.array(lineout[\"index\", \"x\"][srt]) - 0.5\n",
    "#   u1 = np.array(lineout[\"boxlib\", vname][srt])  \n",
    "  \n",
    "#   dudy = 2*u1/dy\n",
    "\n",
    "#   return x[x>0], dudy[x>0]\n",
    "\n",
    "def rms(x):\n",
    "  return np.sqrt(np.mean(x**2))\n"
   ]
  },
  {
   "cell_type": "code",
   "execution_count": null,
   "metadata": {},
   "outputs": [],
   "source": [
    "# viscosity_mu_ref = mu\n",
    "# viscosity_T_ref = Tinf\n",
    "# viscosity_S = 110.4\n",
    "\n",
    "# Tloc = np.linspace(50,300,100)\n",
    "\n",
    "# muloc = viscosity_mu_ref * np.power((Tloc / viscosity_T_ref), 1.5) * (viscosity_T_ref + viscosity_S) / (Tloc + viscosity_S)\n",
    "\n",
    "# Cpmix = 8.31446261815324e7 / (28.97 * (1.4 - 1.0)) * 1.4\n",
    "# lam = muloc * Cpmix / Pr\n",
    "\n",
    "# plt.subplot(1,2,1)\n",
    "# plt.plot(Tloc, muloc)\n",
    "# plt.subplot(1,2,2)\n",
    "# plt.plot(Tloc, lam)"
   ]
  },
  {
   "attachments": {},
   "cell_type": "markdown",
   "metadata": {},
   "source": [
    "### Step 1: Find the reference temperature ($T^*$)\n",
    "$$ \\frac{T^*}{T_e} = 0.42 + 0.58 \\frac{T_w}{T_e} + 0.032 M_e^2. $$\n",
    "Subscript $e$ denotes conditions at the edge of the boundary layer, they are assumed to be the same as the freestream consitions as the oblique shock is weak."
   ]
  },
  {
   "cell_type": "code",
   "execution_count": null,
   "metadata": {},
   "outputs": [],
   "source": [
    "def GetStarQuantities(Tw, Te, pe, Me, gamma, Pr):\n",
    "  Tstar = (0.42 + 0.58*Tw/Te + 0.032*Me**2) * Te # Eckert, laminar\n",
    "  # Tstar = (0.45 + 0.55*Tw/Te + 0.16*np.sqrt(Pr)*(gamma-1)/2*Me**2) * Te # Meador-Smart, laminar\n",
    "  # Tstar = (0.5 + 0.5*Tw/Te + 0.16*Pr**(1/3)*(gamma-1)/2*Me**2) * Te # Meador-Smart, turbulent\n",
    "  rhostar = pe / R / Tstar\n",
    "  mustar = mu0 * (Tstar / Tinf)**1.5 * (Tinf + 110.4) / (Tstar + 110.4)\n",
    "  return Tstar, rhostar, mustar"
   ]
  },
  {
   "attachments": {},
   "cell_type": "markdown",
   "metadata": {},
   "source": [
    "### Step 2: Calculate $\\rho^*$, $\\mu^*$ using $T^*$ and find\n",
    "$$ Re_x^* = \\frac{\\rho^* u_e x}{\\mu^*}, \\qquad C_f^* = \\frac{\\tau_w}{\\frac{1}{2} \\rho^* u_e^2} \\approx \\frac{0.664}{\\sqrt{Re_x^*}}, \\qquad St^* = \\frac{q_w}{\\rho^* u_e c_p (T_{aw} - T_w)} \\approx \\frac{C_f^*}{2} {Pr^*}^{-2/3}, $$\n",
    "where $\\tau_w = \\mu \\frac{\\partial u}{\\partial y}|_w$ is the wall shear stress and $q_w = \\mu c_p / Pr \\frac{\\partial T}{\\partial y}|_w$ is the wall heat flux. $Pr^* \\approx Pr$ and $T_{aw}$ is the adiabatic wall temperature, given as\n",
    "$$ \\frac{T_{aw}}{T_e} = 1 + \\sqrt{Pr} \\frac{\\gamma-1}{2}M_e^2. $$"
   ]
  },
  {
   "cell_type": "code",
   "execution_count": null,
   "metadata": {},
   "outputs": [],
   "source": [
    "Taw = Tinf + np.sqrt(Pr)*((gamma-1)/2*M**2)*Tinf\n",
    "\n",
    "x = []\n",
    "Rexstar = []\n",
    "tauw = []\n",
    "Cfstar = []\n",
    "qw = []\n",
    "Ststar = []\n",
    "\n",
    "for i in range(len(datasets)):\n",
    "  _x, dudy = Diffy2(datasets[i], \"x_velocity\", dy[i], 0.0)\n",
    "  x.append(_x)\n",
    "\n",
    "  Tstar, rhostar, mustar = GetStarQuantities(Tw, Tinf, pinf, M, gamma, Pr)\n",
    "  Rexstar.append(rhostar * uinf * _x / mustar)\n",
    "\n",
    "  xloc, Tloc = LineoutBoxlib([datasets[i]], [\"temp\"])\n",
    "  Tloc = Tloc[0][0,xloc[0]>0]\n",
    "  mu = mu0 * (Tloc / Tinf)**1.5 * (Tinf + 110.4) / (Tloc + 110.4)\n",
    "  tauw.append(mu*dudy)\n",
    "  Cfstar.append(mu*dudy/(0.5*rhostar*uinf**2))\n",
    "  \n",
    "  _, dTdy = Diffy2(datasets[i], \"temp\", dy[i], Tw)\n",
    "  qw.append(cp*mu/Pr*dTdy) # kappa = cp*mu/Pr\n",
    "  Ststar.append(cp*mu/Pr*dTdy/(rhostar*uinf*cp*(Taw-Tw)))"
   ]
  },
  {
   "attachments": {},
   "cell_type": "markdown",
   "metadata": {},
   "source": [
    "### Experimental data\n",
    "Figure 32 in Smith, A. J. D. (1993). *The dynamic response of a wedge separated hypersonic flow and its effects on heat transfer*. PhD thesis, University of Southampton. "
   ]
  },
  {
   "cell_type": "code",
   "execution_count": null,
   "metadata": {},
   "outputs": [],
   "source": [
    "exp_data = np.genfromtxt('ref_data.csv', delimiter=',')\n",
    "exp_data[:,1] = exp_data[:,1] * M**2\n",
    "exp_data[:,3] = exp_data[:,3] * M**2"
   ]
  },
  {
   "attachments": {},
   "cell_type": "markdown",
   "metadata": {},
   "source": [
    "### Plotting"
   ]
  },
  {
   "cell_type": "code",
   "execution_count": null,
   "metadata": {},
   "outputs": [],
   "source": [
    "plt.figure(figsize=(10,7))\n",
    "\n",
    "for i in range(len(datasets)):\n",
    "  plt.subplot(2,2,1)\n",
    "  plt.semilogy(x[i]/L, Cfstar[i])\n",
    "\n",
    "  plt.subplot(2,2,2)\n",
    "  plt.loglog(rhoinf*uinf*dy[i]/mu0, rms(Cfstar[i][x[i]>0.05]-0.664/np.sqrt(Rexstar[i][x[i]>0.05])), 'o')\n",
    "\n",
    "  plt.subplot(2,2,3)\n",
    "  plt.semilogy(x[i]/L, Ststar[i])\n",
    "\n",
    "  plt.subplot(2,2,4)\n",
    "  plt.loglog(rhoinf*uinf*dy[i]/mu0, rms(Ststar[i][x[i]>0.05]-0.5*0.664/np.sqrt(Rexstar[i][x[i]>0.05])*Pr**(-2/3)), 'o')\n",
    "\n",
    "plt.subplot(2,2,1)\n",
    "plt.semilogy(x[-1]/L, 0.664/np.sqrt(Rexstar[-1]), 'k--')\n",
    "plt.ylabel(r\"$C_f^*$\")\n",
    "plt.xlabel(r\"$x/L$\")\n",
    "plt.xlim([0.0, 1.0])\n",
    "\n",
    "plt.subplot(2,2,2)\n",
    "plt.loglog(rhoinf*uinf*dy/mu0, rms(Cfstar[-1]-0.664/np.sqrt(Rexstar[-1]))*dy/dy[-1], 'k--')\n",
    "plt.ylabel(r\"Error in $C_f^*$\")\n",
    "plt.xlabel(r\"$Re_{\\Delta y}$\")\n",
    "\n",
    "plt.subplot(2,2,3)\n",
    "plt.semilogy(x[-1]/L, 0.5*0.664/np.sqrt(Rexstar[-1])*Pr**(-2/3), 'k--') # Pr* = Pr because cp is const with T\n",
    "plt.semilogy(exp_data[:,2]/L, exp_data[:,3], 'k.') \n",
    "plt.ylabel(r\"$St^*$\")\n",
    "plt.xlabel(r\"$x/L$\")\n",
    "plt.xlim([0.0, 1.0])\n",
    "\n",
    "plt.subplot(2,2,4)\n",
    "plt.loglog(rhoinf*uinf*dy/mu0, rms(Ststar[-1]-0.5*0.664/np.sqrt(Rexstar[-1])*Pr**(-2/3))*dy/dy[-1], 'k--')\n",
    "plt.ylabel(r\"Error in $St^*$\")\n",
    "plt.xlabel(r\"$Re_{\\Delta y}$\")\n",
    "\n",
    "plt.tight_layout()"
   ]
  }
 ],
 "metadata": {
  "kernelspec": {
   "display_name": "Python 3 (ipykernel)",
   "language": "python",
   "name": "python3"
  },
  "language_info": {
   "codemirror_mode": {
    "name": "ipython",
    "version": 3
   },
   "file_extension": ".py",
   "mimetype": "text/x-python",
   "name": "python",
   "nbconvert_exporter": "python",
   "pygments_lexer": "ipython3",
   "version": "3.10.6"
  },
  "orig_nbformat": 4
 },
 "nbformat": 4,
 "nbformat_minor": 2
}
