{
 "cells": [
  {
   "attachments": {},
   "cell_type": "markdown",
   "metadata": {},
   "source": [
    "# Compressible boundary layer similarity solutions\n",
    "\n",
    "## Problem: 2D compressible boundary layer equations\n",
    "Conservation of mass, $x$ momentum , $y$ momentum and energy:\n",
    "\n",
    "$\\begin{pmatrix} \n",
    "\\frac{\\partial \\rho u}{\\partial x} + \\frac{\\partial \\rho v}{ \\partial y} \\\\\n",
    "\\rho u \\frac{\\partial u}{\\partial x} + \\rho v \\frac{\\partial u}{\\partial y} - \\frac{d p_e}{dx} - \\frac{\\partial }{\\partial y}\\big ( \\mu \\frac{\\partial u}{\\partial y} \\big) \\\\\n",
    "\\frac{\\partial p}{\\partial y} \\\\\n",
    "\\rho u \\frac{\\partial h}{\\partial x} + \\rho v \\frac{\\partial h}{\\partial y} - \\frac{\\partial }{\\partial y} \\big (k \\frac{\\partial T}{\\partial y} \\big) -  u \\frac{d p_e}{dx} - \\mu \\big( \\frac{\\partial u}{\\partial y}\\big)^2\n",
    "\\end{pmatrix} = \\boldsymbol{0}$\n",
    "\n",
    "The problem is commonly found in textbooks [1-3]. Although current system is non-reactive, [1-2,7] also consider reacting flow.\n",
    "\n",
    "Applying similarity transformation without any further assumptions leads to (See [1] Section 6.5):\n",
    "$\\begin{pmatrix}\n",
    "\\big(Cf^{''} \\big)^{'} + ff^{''} -  \n",
    "\\frac{2\\xi}{u_e} \\bigg( (f^{'})^2 - \\frac{\\rho_e}{\\rho}   \\bigg) \\frac{du_e}{d\\xi} - 2\\xi\\bigg( f^{'} \\frac{\\partial f^{'}}{\\partial \\xi} - f^{''} \\frac{\\partial f}{\\partial \\xi}\\bigg)\\\\\n",
    "\\frac{\\partial p}{\\partial \\eta} \\\\\n",
    "\\bigg( \\frac{C}{Pr}g^{'} \\bigg)^{'} + fg^{'} - 2\\xi \\bigg( f^{'}\\frac{\\partial g}{\\partial \\xi} + \\frac{f^{'}g}{h_e} \\frac{\\partial f}{\\partial \\xi} - g^{'} \\frac{\\partial f}{\\partial \\xi} + \\frac{\\rho_e u_e}{\\rho h_e} f^{'} \\frac{du_e}{d \\xi} \\bigg) + C\\frac{u_{e}^2}{h_e} (f^{''})^{2}\n",
    "\\end{pmatrix} = \\boldsymbol{0} $\n",
    "\n",
    "Where:\n",
    "- Subscript ($_e$) represents boundary layer edge state.\n",
    "- $\\xi \\equiv \\int_{0}^{x} \\rho_{e} u_{e} \\mu_{e} dx_{1}$ and $\\eta \\equiv \\frac{u_e}{\\sqrt{2\\xi}}\\int_{0}^{y} \\rho dy_1$ ($x_1$ and $y_1$ are dummy integration variables).\n",
    "- $f^{'}$ is the nondimensional velocity field in transformed coordinates, $f^{'} \\equiv \\frac{\\partial f(\\xi,\\eta)}{\\partial \\eta} = \\frac{u(\\xi ,\\eta)}{u_e(\\xi)}.$\n",
    "- $g$ is just the nondimensional static enthalpy, $g \\equiv \\frac{h(\\xi,\\eta)}{h_{e}(\\xi)}$.\n",
    "-  C is Chapman-Rubesin factor, it accounts for transport property variation, $C \\equiv \\frac{\\rho \\mu }{\\rho_e \\mu_e}.$\n",
    "\n",
    "\n",
    "### Specific case: Flat plate\n",
    "\n",
    "Considering a specific case and applying boundary conditions can further simplify the problem, converting the two PDEs to ODEs. There are few other cases which also other similar simplifications, [1-3] consider a range of boundary conditions, stagnation point flow and axis-symmeteric and inclined boundary layers. However, here only a flat plate is considered. Alternative solution procedures to current approach can be found in [1-6].\n",
    "\n",
    "- Assumption: Boundary layer is fully developed, so $u_{e}, \\rho_e, h_e $ are constants  $\\rightarrow \\frac{\\partial ()}{\\partial \\xi} = 0$.\n",
    "\n",
    "$\\rightarrow f^{'} \\equiv \\frac{d f(\\eta)}{d \\eta} = \\frac{u(\\eta)}{u_e}$\n",
    "\n",
    "$\\rightarrow g \\equiv \\frac{h(\\eta)}{h_{e}}.$ \n",
    "\n",
    "$\\rightarrow \\xi = \\rho_e u_e \\mu_e x$ and $\\eta = \\sqrt{\\frac{u_e}{2 x \\rho_e \\mu_e}} \\int_{0}^{y} \\rho d\\eta$ \n",
    "\n",
    "- Boundary conditions :\n",
    "  - No slip - $f^{'}(0) = 0 ; f(0) = 0$\n",
    "  - If adiabatic wall $\\frac{\\partial T}{\\partial y} = 0  \\rightarrow g^{'}(0) = 0$. If constant wall temperature, $g(0) = g_w$.\n",
    "  - $g(\\eta \\rightarrow \\infty) = 1$  $f^{'}(\\eta \\rightarrow \\infty ) = 1$.\n",
    "\n",
    "$\\begin{pmatrix}  \\big(Cf^{''} \\big)^{'} + ff^{''} \\\\ \\bigg( \\frac{C}{Pr}g^{'} \\bigg)^{'} + fg^{'}  + C\\frac{u_{e}^2}{h_e} (f^{''})^{2} \\end{pmatrix} = \\boldsymbol{0} $"
   ]
  },
  {
   "attachments": {},
   "cell_type": "markdown",
   "metadata": {},
   "source": [
    "### Reducing order of the ODE\n",
    "Introduce dummy variables:\n",
    "$\\begin{pmatrix} y_1 \\\\ y_2 \\\\ y_3\\\\ y_4 \\\\ y_5 \\end{pmatrix}  = \\begin{pmatrix} f \\\\ f^{'} \\\\ f^{''} \\\\ g \\\\ g^{'} \\end{pmatrix}  = \\begin{pmatrix} f \\\\ y_{1}^{'} \\\\ y_{2}^{'} \\\\ g \\\\ y_{4}^{'} \\end{pmatrix}  $\n",
    "\n",
    "Now the problem can be written as:\n",
    "$\\frac{d}{d\\eta} \\begin{pmatrix} y_1 \\\\ y_2 \\\\ C y_3\\\\ y_4 \\\\ \\frac{C}{Pr}y_5 \\end{pmatrix} = \\begin{pmatrix} y_2 \\\\ y_3 \\\\ -y_1 y_3 \\\\ y_5 \\\\ -y_1 y_5 - C\\frac{u_{e}^{2}}{h_e} (y_{3})^2  \\end{pmatrix} = \\boldsymbol{RHS}$\n",
    "\n",
    "Note, this includes the odd products of C and Pr, due to variable transport properties in the boundary layer. The wall boundary conditions (BCs) are :\n",
    "$\\begin{pmatrix} y_1(0) \\\\ y_2(0) \\\\ y_3(0) \\\\ y_4(0) \\\\ y_5(0) \\end{pmatrix} = \\begin{pmatrix} 0 \\\\ 0 \\\\ guess \\\\ guess \\\\ 0 \\end{pmatrix}$ \n",
    "\n",
    "For given pair of guessed BCs the boundary layer solution is space marched until large $\\eta$.\n",
    "\n",
    "### Discretisation and guessing unkown BCs\n",
    "The equation above is discretised around $i - 1$, with the first order derivatives on the left hand side are simply discretised with euler forward discretisation. This results in the following:\n",
    "\n",
    "$ \\boldsymbol{y}_{n+1} = \\boldsymbol{y}_{n} + \\boldsymbol{RHS} \\Delta \\eta$\n",
    "\n",
    "\n",
    "The boundary layer is solved for a given wall BC. The accuracy of the wall BC guess is calculated by the solution's behaviour for large $\\eta$, for which $f^{'},g \\rightarrow 1$. Newton-Rhapson procedure is used to sucessively improve wall BC guesses. Newton-Rhapson for a vector function with vector inputs of the form ($\\boldsymbol{f} : \\mathbb{R}^n  \\rightarrow \\mathbb{R}^n$):\n",
    "\n",
    "$ \\boldsymbol{f} = \\begin{pmatrix} f_1(x_1,x_2,...x_n) \\\\  f_2(x_1,x_2,...x_n) \\\\ \\vdots \\\\  f_n(x_1,x_2,...x_n)  \\end{pmatrix}  = 0$\n",
    "\n",
    "$\\boldsymbol{x}_{n+1}  = \\boldsymbol{x}_n - \\boldsymbol{J}^{-1} \\boldsymbol{f}(\\boldsymbol{x}_n)$ is solved to converge to the correct wall boundary conditions.\n",
    "\n",
    "\n",
    "### References:\n",
    "1. Anderson, John David. Hypersonic and high temperature gas dynamics. AIAA, 2000.\n",
    "1. Hayes, Wallace. Hypersonic flow theory. Elsevier, 2012.\n",
    "3. White, Frank M. \"Viscous Flow Theory.\" (1974).\n",
    "4. Oz, Furkan, and Kursat Kara. \"A CFD Tutorial in Julia: Introduction to Compressible Laminar Boundary-Layer Flows.\" Fluids 6.11 (2021): 400.\n",
    "5. Cohen, Clarence B., and Eli Reshotko. Similar solutions for the compressible laminar boundary layer with heat transfer and pressure gradient. Flight Propulsion Research Lab Cleveland Oh, 1955.\n",
    "6. Van Driest, E. R. \"Investigation of laminar boundary layer in compressive fluids using the Crocco method.\" NACA Technical Note 2597 (1952).\n",
    "7. Di Renzo, M., and J. Urzay. \"Direct numerical simulation of a hypersonic transitional boundary layer at suborbital enthalpies.\" Journal of Fluid Mechanics 912 (2021).\n"
   ]
  },
  {
   "cell_type": "code",
   "execution_count": 1,
   "metadata": {},
   "outputs": [],
   "source": [
    "# Load libs\n",
    "import numpy as np\n",
    "import matplotlib.pyplot as plt"
   ]
  },
  {
   "cell_type": "code",
   "execution_count": 2,
   "metadata": {},
   "outputs": [],
   "source": [
    "# Define gas\n",
    "class GammaGas:\n",
    "    \"\"\" A class for gamma-law air \"\"\"\n",
    "\n",
    "    def __init__(self, R=8.31446261815324/28.97e-3, gamma=1.4, Pr=0.72):    \n",
    "        self.R     = R     # specific gas constant for air J/kgK\n",
    "        self.gamma = gamma # specific heats ratio\n",
    "        self.Pr    = Pr    # Prandtl number\n",
    "\n",
    "        # Sutherland's law parameters\n",
    "        self.mu0 = 3.94751e-05\n",
    "        self.T0  = 57.8\n",
    "        self.S   = 110.4\n",
    "    \n",
    "    def cp(self, T=0):\n",
    "        \"\"\" Calculate specific heat capcity for constant pressure (cp) given temperature (T) \"\"\"\n",
    "        return self.R * self.gamma / (self.gamma - 1.0)\n",
    "\n",
    "    def T2h(self, T):\n",
    "        \"\"\" Calculate enthalpy (h) given temperature (T) \"\"\"\n",
    "        h = self.cp() * T\n",
    "        return h\n",
    "    \n",
    "    def h2T(self, h):\n",
    "        \"\"\" Calculate temperature (T) given enthalpy (h) \"\"\"\n",
    "        return h / self.cp()\n",
    "    \n",
    "    def mu(self, T):\n",
    "        \"\"\" Calculate viscosity (mu) given temperature (T) using Sutherland's law \"\"\"        \n",
    "        return self.mu0 * (T/self.T0)**1.5 * (self.T0 + self.S)/(T + self.S)"
   ]
  },
  {
   "cell_type": "code",
   "execution_count": 3,
   "metadata": {},
   "outputs": [],
   "source": [
    "# Define solver\n",
    "from scipy.integrate import solve_ivp\n",
    "from scipy.optimize  import minimize\n",
    "\n",
    "class CBL:\n",
    "    \"\"\" Similarity solution of compressible boundary layer (CBL). \"\"\"\n",
    "\n",
    "    def __init__(self, gas, Me, Te, pe, eta, adia, Tw=300.0):\n",
    "        self.gas = gas\n",
    "        self.Me = Me\n",
    "        self.Te = Te\n",
    "        self.pe = pe\n",
    "        self.adia = adia\n",
    "        self.Tw = Tw\n",
    "        self.eta = eta\n",
    "\n",
    "        # Calculate and store edge states\n",
    "        self.he = gas.T2h(Te)\n",
    "        self.hw = gas.T2h(Tw)\n",
    "        self.ue = Me * np.sqrt(gas.gamma * gas.R * Te)\n",
    "        self.mue = gas.mu(Te)\n",
    "        self.rhoe = pe / (gas.R * Te)\n",
    "    \n",
    "    def _rhs(self, t, y):\n",
    "        h = y[3] * self.he\n",
    "        T = self.gas.h2T(h)\n",
    "        mu = self.gas.mu(T)\n",
    "        C = self.Te / T * mu / self.mue\n",
    "\n",
    "        rhs = np.zeros((5,))\n",
    "        rhs[0] = y[1]\n",
    "        rhs[1] = y[2]\n",
    "        rhs[2] = -y[0]*y[2]/C\n",
    "        rhs[3] = y[4]\n",
    "        rhs[4] = -self.gas.Pr/C*y[0]*y[4] - self.gas.Pr*(self.ue**2)/self.he*y[2]**2\n",
    "        return rhs\n",
    "    \n",
    "    def integrate(self, y0):\n",
    "        \"\"\" Integrate the CBL equation given solution at wall (y0) \"\"\"\n",
    "        sol = solve_ivp(self._rhs, [self.eta[0],self.eta[-1]], y0, t_eval=self.eta)\n",
    "        return sol.y\n",
    "\n",
    "    def solve(self, iguess):\n",
    "        \"\"\" Find the solution to the CBL equation subjected to boundary conditions at edge (u/ue = T/Te = 1) \"\"\"\n",
    "        def get_y0(bcs):\n",
    "            if (self.adia):\n",
    "                return np.array([0., 0., bcs[0], bcs[1], 0.])\n",
    "            else:\n",
    "                return np.array([0., 0., bcs[0], self.hw/self.he, bcs[1]])\n",
    "\n",
    "        def err(bcs):\n",
    "            y0 = get_y0(bcs)\n",
    "            y = self.integrate(y0)\n",
    "            return (y[1,-1] - 1.0)**2 + (y[3,-1] - 1.0)**2 # L2 error\n",
    "\n",
    "        res = minimize(err, iguess)\n",
    "        y0 = get_y0(res.x)\n",
    "        print(\"#Iter =\" ,res.nit, \", Final y(0) = \", y0)\n",
    "        return self.integrate(y0)"
   ]
  },
  {
   "attachments": {},
   "cell_type": "markdown",
   "metadata": {},
   "source": [
    "## Compare to simulation"
   ]
  },
  {
   "cell_type": "code",
   "execution_count": 4,
   "metadata": {},
   "outputs": [],
   "source": [
    "import yt\n",
    "\n",
    "L = 20.5 #cm\n",
    "Tw = 300.0 #K\n",
    "Tinf = 57.8 #K\n",
    "pinf = 1530.0 #0.1*Pa\n",
    "M = 6.85\n",
    "\n",
    "gamma = 1.4\n",
    "R = 2.87e6\n",
    "cp = 1.005e7\n",
    "Pr = 0.72\n",
    "mu0 = 3.94751e-05\n",
    "\n",
    "uinf = (M*np.sqrt(gamma*R*Tinf))\n",
    "rhoinf = pinf/R/Tinf"
   ]
  },
  {
   "cell_type": "code",
   "execution_count": 5,
   "metadata": {},
   "outputs": [],
   "source": [
    "def LineoutBoxlib(files, var_names, x):\n",
    "  _y = []\n",
    "  _data = []\n",
    "\n",
    "  for fname in files:\n",
    "    ds = yt.load(fname)\n",
    "\n",
    "    yaxis = 1  # take a line cut along the x axis\n",
    "    lineout = ds.ortho_ray(yaxis, (0, x+0.5)) # the plate starts at x=0.5\n",
    "    srt = np.argsort(lineout[\"index\", \"y\"])\n",
    "    y = np.array(lineout[\"index\", \"y\"][srt])\n",
    "    _y.append(y)\n",
    "\n",
    "    data = np.zeros((len(var_names), y.size))\n",
    "    for i in range(len(var_names)):\n",
    "      data[i,:] = np.array(lineout[\"boxlib\", var_names[i]][srt])  \n",
    "    _data.append(data)\n",
    "  \n",
    "  return _y, _data\n",
    "\n",
    "def RayoutBoxlib(fname, var_names, start, end):\n",
    "\n",
    "  ds = yt.load(fname)\n",
    "  lineout = ds.ray(start, end)\n",
    "\n",
    "  n = np.sqrt((np.array(lineout[\"index\", \"x\"])-start[0])**2 + (np.array(lineout[\"index\", \"y\"])-start[1])**2)\n",
    "  srt = np.argsort(n)\n",
    "  n = n[srt] # normal from wall\n",
    "\n",
    "  data = np.zeros((len(var_names), n.size))\n",
    "  for i in range(len(var_names)):\n",
    "    data[i,:] = np.array(lineout[\"boxlib\", var_names[i]][srt])  \n",
    "\n",
    "  return n, data"
   ]
  },
  {
   "attachments": {},
   "cell_type": "markdown",
   "metadata": {},
   "source": [
    "### Adiabatic wall"
   ]
  },
  {
   "cell_type": "code",
   "execution_count": 6,
   "metadata": {},
   "outputs": [
    {
     "name": "stderr",
     "output_type": "stream",
     "text": [
      "/tmp/ipykernel_4053416/3464141865.py:30: RuntimeWarning: invalid value encountered in double_scalars\n",
      "  return self.mu0 * (T/self.T0)**1.5 * (self.T0 + self.S)/(T + self.S)\n"
     ]
    },
    {
     "name": "stdout",
     "output_type": "stream",
     "text": [
      "#Iter = 12 , Final y(0) =  [0.         0.         0.48488818 9.00863477 0.        ]\n"
     ]
    }
   ],
   "source": [
    "# Similarity sol\n",
    "gas = GammaGas()\n",
    "eta = np.linspace(0,20,2000)\n",
    "prob = CBL(gas, Me=M, Te=Tinf, pe=pinf, eta=eta, adia=True, Tw=Tw)\n",
    "y = prob.solve([0.65, 3.0])\n",
    "us = y[1]\n",
    "Ts = y[3]"
   ]
  },
  {
   "cell_type": "code",
   "execution_count": 7,
   "metadata": {},
   "outputs": [
    {
     "name": "stderr",
     "output_type": "stream",
     "text": [
      "yt : [INFO     ] 2023-06-28 14:14:13,520 Parameters: current_time              = 0.00154353167865733\n",
      "yt : [INFO     ] 2023-06-28 14:14:13,520 Parameters: domain_dimensions         = [64 64  1]\n",
      "yt : [INFO     ] 2023-06-28 14:14:13,521 Parameters: domain_left_edge          = [0. 0. 0.]\n",
      "yt : [INFO     ] 2023-06-28 14:14:13,522 Parameters: domain_right_edge         = [21.  4.  1.]\n"
     ]
    },
    {
     "data": {
      "text/plain": [
       "190.54955727694013"
      ]
     },
     "execution_count": 7,
     "metadata": {},
     "output_type": "execute_result"
    }
   ],
   "source": [
    "x = 18.0\n",
    "\n",
    "# Regular grid\n",
    "y, data = LineoutBoxlib([\"adia_ns/plt20000\"], [\"density\", \"x_velocity\", \"temp\", \"viscosity\"], x)\n",
    "y = y[0]\n",
    "rho = data[0][0,:]\n",
    "u = data[0][1,:]\n",
    "T = data[0][2,:]\n",
    "dy = np.concatenate((y[1:]-y[:-1],[y[-1]-y[-2]]), axis=0)\n",
    "eta2 = np.sqrt(uinf/2/x/rhoinf/mu0)*np.cumsum(rho*dy)\n",
    "\n",
    "rhoinf*uinf*np.min(dy)/mu0 #Re_dy should be ~O(1)"
   ]
  },
  {
   "cell_type": "code",
   "execution_count": 8,
   "metadata": {},
   "outputs": [
    {
     "name": "stderr",
     "output_type": "stream",
     "text": [
      "yt : [INFO     ] 2023-06-28 14:14:13,880 Parameters: current_time              = 0.00149140875925352\n",
      "yt : [INFO     ] 2023-06-28 14:14:13,881 Parameters: domain_dimensions         = [152  48   1]\n",
      "yt : [INFO     ] 2023-06-28 14:14:13,882 Parameters: domain_left_edge          = [ 0. -3.  0.]\n",
      "yt : [INFO     ] 2023-06-28 14:14:13,883 Parameters: domain_right_edge         = [19.  3.  1.]\n"
     ]
    },
    {
     "data": {
      "text/plain": [
       "381.09911455388027"
      ]
     },
     "execution_count": 8,
     "metadata": {},
     "output_type": "execute_result"
    }
   ],
   "source": [
    "# EB\n",
    "y2, data2 = LineoutBoxlib([\"../FlatPlate_EB/adia_ns/plt05000\"], [\"density\", \"x_velocity\", \"temp\"], x)\n",
    "y2r = y2[0]\n",
    "y2 = y2r[y2r>0]\n",
    "rho2 = data2[0][0,y2r>0]\n",
    "u2 = data2[0][1,y2r>0]\n",
    "T2 = data2[0][2,y2r>0]\n",
    "dy2 = np.concatenate((y2[1:]-y2[:-1],[y2[-1]-y2[-2]]), axis=0)\n",
    "eta22 = np.sqrt(uinf/2/x/rhoinf/mu0)*np.cumsum(rho2*dy2)\n",
    "\n",
    "rhoinf*uinf*np.min(dy2)/mu0 #Re_dy should be ~O(1)"
   ]
  },
  {
   "cell_type": "code",
   "execution_count": 9,
   "metadata": {},
   "outputs": [
    {
     "name": "stderr",
     "output_type": "stream",
     "text": [
      "yt : [INFO     ] 2023-06-28 14:14:14,273 Parameters: current_time              = 0.00171922378010634\n",
      "yt : [INFO     ] 2023-06-28 14:14:14,274 Parameters: domain_dimensions         = [144  88   1]\n",
      "yt : [INFO     ] 2023-06-28 14:14:14,274 Parameters: domain_left_edge          = [0. 0. 0.]\n",
      "yt : [INFO     ] 2023-06-28 14:14:14,275 Parameters: domain_right_edge         = [18. 11.  1.]\n"
     ]
    },
    {
     "name": "stdout",
     "output_type": "stream",
     "text": [
      "[15.588457268119896, 8.999999999999998, 0] [14.488457268119896, 10.905255888325764, 0]\n"
     ]
    }
   ],
   "source": [
    "# EB tilted\n",
    "ang = np.pi / 6 # 30deg\n",
    "l = 2.2 # max normal distance\n",
    "start = [0.0+x*np.cos(ang), x*np.sin(ang), 0]\n",
    "end = [0.0+x*np.cos(ang)-l*np.sin(ang), x*np.sin(ang)+l*np.cos(ang), 0]\n",
    "print(start, end)\n",
    "\n",
    "y3, data3 = RayoutBoxlib(\"../FlatPlate_EB/adia_ns_incline/plt10000\", [\"density\", \"x_velocity\", \"y_velocity\", \"temp\"], start, end)\n",
    "rho3 = data3[0,:]\n",
    "u3 = np.sqrt(data3[1,:]**2 + data3[2,:]**2)\n",
    "T3 = data3[3,:]\n",
    "dy3 = np.concatenate((y3[1:]-y3[:-1],[y3[-1]-y3[-2]]), axis=0)\n",
    "eta23 = np.sqrt(uinf/2/x/rhoinf/mu0)*np.cumsum(rho3*dy3)\n",
    "\n",
    "#Re_dy is not well defined"
   ]
  },
  {
   "cell_type": "code",
   "execution_count": 10,
   "metadata": {},
   "outputs": [
    {
     "data": {
      "text/plain": [
       "<matplotlib.legend.Legend at 0x7fdf41f920e0>"
      ]
     },
     "execution_count": 10,
     "metadata": {},
     "output_type": "execute_result"
    },
    {
     "data": {
      "image/png": "[encoded data removed]",
      "text/plain": [
       "<Figure size 432x288 with 1 Axes>"
      ]
     },
     "metadata": {
      "needs_background": "light"
     },
     "output_type": "display_data"
    }
   ],
   "source": [
    "plt.plot(us, eta, label='Analytical $u/u_e$', color=\"k\")\n",
    "plt.plot(u/uinf, eta2, '.:', label=\"Rugular $u/u_e$\", markevery=10)\n",
    "plt.plot(u2/uinf, eta22, 'x:', label=\"EB $u/u_e$\", markevery=10)\n",
    "plt.plot(u3/uinf, eta23, '*:', label=\"EB tilted $u/u_e$\", markevery=10)\n",
    "\n",
    "plt.plot(Ts, eta, label='Analytical $T/T_e$', color=\"k\")\n",
    "plt.plot(T/Tinf, eta2, '.:', label=\"Regular $T/T_e$\", markevery=10)\n",
    "plt.plot(T2/Tinf, eta22, 'x:', label=\"EB $T/T_e$\", markevery=10)\n",
    "plt.plot(T3/Tinf, eta23, '*:', label=\"EB tilted $T/T_e$\", markevery=10)\n",
    "\n",
    "plt.title(\"Adiabatic wall\")\n",
    "plt.ylabel(\"$\\eta$\")\n",
    "plt.xlim([0,None])\n",
    "plt.ylim([0,10])\n",
    "plt.legend(ncol=2)"
   ]
  },
  {
   "attachments": {},
   "cell_type": "markdown",
   "metadata": {},
   "source": [
    "### Isothermal wall"
   ]
  },
  {
   "cell_type": "code",
   "execution_count": 11,
   "metadata": {},
   "outputs": [
    {
     "name": "stderr",
     "output_type": "stream",
     "text": [
      "/tmp/ipykernel_4053416/3464141865.py:30: RuntimeWarning: invalid value encountered in double_scalars\n",
      "  return self.mu0 * (T/self.T0)**1.5 * (self.T0 + self.S)/(T + self.S)\n"
     ]
    },
    {
     "name": "stdout",
     "output_type": "stream",
     "text": [
      "#Iter = 12 , Final y(0) =  [0.         0.         0.47203019 5.19031142 1.58628015]\n"
     ]
    }
   ],
   "source": [
    "# Similarity sol\n",
    "gas = GammaGas()\n",
    "eta = np.linspace(0,20,2000)\n",
    "prob = CBL(gas, Me=M, Te=Tinf, pe=pinf, eta=eta, adia=False, Tw=Tw)\n",
    "y = prob.solve([0.65, 3.0])\n",
    "us = y[1]\n",
    "Ts = y[3]"
   ]
  },
  {
   "cell_type": "code",
   "execution_count": 12,
   "metadata": {},
   "outputs": [
    {
     "name": "stderr",
     "output_type": "stream",
     "text": [
      "yt : [INFO     ] 2023-06-28 14:14:16,245 Parameters: current_time              = 0.00086357101775823\n",
      "yt : [INFO     ] 2023-06-28 14:14:16,246 Parameters: domain_dimensions         = [64 64  1]\n",
      "yt : [INFO     ] 2023-06-28 14:14:16,247 Parameters: domain_left_edge          = [0. 0. 0.]\n",
      "yt : [INFO     ] 2023-06-28 14:14:16,248 Parameters: domain_right_edge         = [21.  4.  1.]\n"
     ]
    },
    {
     "name": "stderr",
     "output_type": "stream",
     "text": [
      "yt : [INFO     ] 2023-06-28 14:14:16,654 Parameters: current_time              = 0.00152373870804799\n",
      "yt : [INFO     ] 2023-06-28 14:14:16,655 Parameters: domain_dimensions         = [152  48   1]\n",
      "yt : [INFO     ] 2023-06-28 14:14:16,657 Parameters: domain_left_edge          = [ 0. -3.  0.]\n",
      "yt : [INFO     ] 2023-06-28 14:14:16,658 Parameters: domain_right_edge         = [19.  3.  1.]\n"
     ]
    },
    {
     "name": "stdout",
     "output_type": "stream",
     "text": [
      "47.637389319235034\n"
     ]
    },
    {
     "name": "stderr",
     "output_type": "stream",
     "text": [
      "yt : [INFO     ] 2023-06-28 14:14:16,930 Parameters: current_time              = 0.00238515566398195\n",
      "yt : [INFO     ] 2023-06-28 14:14:16,931 Parameters: domain_dimensions         = [144  88   1]\n",
      "yt : [INFO     ] 2023-06-28 14:14:16,932 Parameters: domain_left_edge          = [0. 0. 0.]\n",
      "yt : [INFO     ] 2023-06-28 14:14:16,933 Parameters: domain_right_edge         = [18. 11.  1.]\n"
     ]
    },
    {
     "name": "stdout",
     "output_type": "stream",
     "text": [
      "381.09911455388027\n",
      "[15.588457268119896, 8.999999999999998, 0] [14.488457268119896, 10.905255888325764, 0]\n"
     ]
    },
    {
     "name": "stderr",
     "output_type": "stream",
     "text": [
      "yt : [INFO     ] 2023-06-28 14:14:17,226 Parameters: current_time              = 0.000277912179818034\n",
      "yt : [INFO     ] 2023-06-28 14:14:17,227 Parameters: domain_dimensions         = [144  88   8]\n",
      "yt : [INFO     ] 2023-06-28 14:14:17,228 Parameters: domain_left_edge          = [ 0.   0.  -0.5]\n",
      "yt : [INFO     ] 2023-06-28 14:14:17,229 Parameters: domain_right_edge         = [18.  11.   0.5]\n"
     ]
    },
    {
     "name": "stdout",
     "output_type": "stream",
     "text": [
      "[15.588457268119896, 8.999999999999998, 0] [14.488457268119896, 10.905255888325764, 0]\n"
     ]
    }
   ],
   "source": [
    "x = 18.0\n",
    "\n",
    "# Regular\n",
    "y, data = LineoutBoxlib([\"WENOZ48/plt21500\"], [\"density\", \"x_velocity\", \"temp\"], x)\n",
    "y = y[0]\n",
    "rho = data[0][0,:]\n",
    "u = data[0][1,:]\n",
    "T = data[0][2,:]\n",
    "dy = np.concatenate((y[1:]-y[:-1],[y[-1]-y[-2]]), axis=0)\n",
    "eta2 = np.sqrt(uinf/2/x/rhoinf/mu0)*np.cumsum(rho*dy)\n",
    "\n",
    "print(rhoinf*uinf*np.min(dy)/mu0) #Re_dy should be ~O(1)\n",
    "\n",
    "# EB\n",
    "y2, data2 = LineoutBoxlib([\"../FlatPlate_EB/iso_ns/plt05000\"], [\"density\", \"x_velocity\", \"temp\"], x)\n",
    "y2r = y2[0]\n",
    "y2 = y2r[y2r>0]\n",
    "rho2 = data2[0][0,y2r>0]\n",
    "u2 = data2[0][1,y2r>0]\n",
    "T2 = data2[0][2,y2r>0]\n",
    "dy2 = np.concatenate((y2[1:]-y2[:-1],[y2[-1]-y2[-2]]), axis=0)\n",
    "eta22 = np.sqrt(uinf/2/x/rhoinf/mu0)*np.cumsum(rho2*dy2)\n",
    "\n",
    "print(rhoinf*uinf*np.min(dy2)/mu0) #Re_dy should be ~O(1)\n",
    "\n",
    "# EB tilted\n",
    "ang = np.pi / 6 # 30deg\n",
    "l = 2.2 # max normal distance\n",
    "start = [0.0+x*np.cos(ang), x*np.sin(ang), 0]\n",
    "end = [0.0+x*np.cos(ang)-l*np.sin(ang), x*np.sin(ang)+l*np.cos(ang), 0]\n",
    "print(start, end)\n",
    "\n",
    "y3, data3 = RayoutBoxlib(\"../FlatPlate_EB/iso_ns_incline/plt07000\", [\"density\", \"x_velocity\", \"y_velocity\", \"temp\"], start, end)\n",
    "rho3 = data3[0,:]\n",
    "u3 = np.sqrt(data3[1,:]**2 + data3[2,:]**2)\n",
    "T3 = data3[3,:]\n",
    "dy3 = np.concatenate((y3[1:]-y3[:-1],[y3[-1]-y3[-2]]), axis=0)\n",
    "eta23 = np.sqrt(uinf/2/x/rhoinf/mu0)*np.cumsum(rho3*dy3)\n",
    "\n",
    "#Re_dy is not well defined\n",
    "\n",
    "# EB tilted 3D\n",
    "ang = np.pi / 6 # 30deg\n",
    "l = 2.2 # max normal distance\n",
    "start = [0.0+x*np.cos(ang), x*np.sin(ang), 0]\n",
    "end = [0.0+x*np.cos(ang)-l*np.sin(ang), x*np.sin(ang)+l*np.cos(ang), 0]\n",
    "print(start, end)\n",
    "\n",
    "y4, data4 = RayoutBoxlib(\"../FlatPlate_EB/iso_ns_incline_3d/plt01000\", [\"density\", \"x_velocity\", \"y_velocity\", \"temp\"], start, end)\n",
    "rho4 = data4[0,:]\n",
    "u4 = np.sqrt(data4[1,:]**2 + data4[2,:]**2)\n",
    "T4 = data4[3,:]\n",
    "dy4 = np.concatenate((y4[1:]-y4[:-1],[y4[-1]-y4[-2]]), axis=0)\n",
    "eta24 = np.sqrt(uinf/2/x/rhoinf/mu0)*np.cumsum(rho4*dy4)\n",
    "\n",
    "#Re_dy is not well defined"
   ]
  },
  {
   "cell_type": "code",
   "execution_count": 14,
   "metadata": {},
   "outputs": [
    {
     "data": {
      "text/plain": [
       "<matplotlib.legend.Legend at 0x7fdf420304c0>"
      ]
     },
     "execution_count": 14,
     "metadata": {},
     "output_type": "execute_result"
    },
    {
     "data": {
      "image/png": "[encoded data removed]",
      "text/plain": [
       "<Figure size 432x288 with 1 Axes>"
      ]
     },
     "metadata": {
      "needs_background": "light"
     },
     "output_type": "display_data"
    }
   ],
   "source": [
    "plt.plot(us, eta, label='Analytical $u/u_e$', color=\"k\")\n",
    "plt.plot(u/uinf, eta2, '.:', label=\"Rugular $u/u_e$\", markevery=10)\n",
    "plt.plot(u2/uinf, eta22, 'x:', label=\"EB $u/u_e$\", markevery=10)\n",
    "plt.plot(u3/uinf, eta23, '*:', label=\"EB tilted $u/u_e$\", markevery=10)\n",
    "plt.plot(u4/uinf, eta24, '^:', label=\"EB tilted 3D $u/u_e$\", markevery=10)\n",
    "\n",
    "plt.plot(Ts, eta, label='Analytical $T/T_e$', color=\"k\")\n",
    "plt.plot(T/Tinf, eta2, '.:', label=\"Regular $T/T_e$\", markevery=10)\n",
    "plt.plot(T2/Tinf, eta22, 'x:', label=\"EB $T/T_e$\", markevery=10)\n",
    "plt.plot(T3/Tinf, eta23, '*:', label=\"EB tilted $T/T_e$\", markevery=10)\n",
    "plt.plot(T4/Tinf, eta24, '^:', label=\"EB tilted 3D $T/T_e$\", markevery=10)\n",
    "\n",
    "plt.title(\"Isothermal wall, $T_w$={}K\".format(Tw))\n",
    "plt.ylabel(\"$\\eta$\")\n",
    "plt.xlim([0,None])\n",
    "plt.ylim([0,10])\n",
    "plt.legend(ncol=2)"
   ]
  }
 ],
 "metadata": {
  "kernelspec": {
   "display_name": "Python 3 (ipykernel)",
   "language": "python",
   "name": "python3"
  },
  "language_info": {
   "codemirror_mode": {
    "name": "ipython",
    "version": 3
   },
   "file_extension": ".py",
   "mimetype": "text/x-python",
   "name": "python",
   "nbconvert_exporter": "python",
   "pygments_lexer": "ipython3",
   "version": "3.10.6"
  }
 },
 "nbformat": 4,
 "nbformat_minor": 2
}
